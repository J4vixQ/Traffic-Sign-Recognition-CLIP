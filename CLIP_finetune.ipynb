{
 "cells": [
  {
   "cell_type": "code",
   "execution_count": null,
   "id": "0db100fe",
   "metadata": {},
   "outputs": [
    {
     "name": "stdout",
     "output_type": "stream",
     "text": [
      "Will train: vision_model.post_layernorm.weight\n",
      "Will train: vision_model.post_layernorm.bias\n",
      "Will train: visual_projection.weight\n"
     ]
    }
   ],
   "source": [
    "import os\n",
    "import json\n",
    "import torch\n",
    "import torch.nn as nn\n",
    "from torch.utils.data import Dataset, DataLoader\n",
    "from PIL import Image\n",
    "from transformers import CLIPModel, CLIPProcessor\n",
    "\n",
    "# load CLIP\n",
    "clip_model = CLIPModel.from_pretrained(\"openai/clip-vit-base-patch32\")\n",
    "processor = CLIPProcessor.from_pretrained(\"openai/clip-vit-base-patch32\")\n",
    "\n",
    "# freeze!\n",
    "for param in clip_model.parameters():\n",
    "    param.requires_grad = False\n",
    "\n",
    "# unfreeze attention pooling layer and projection layer\n",
    "for param in clip_model.vision_model.post_layernorm.parameters():\n",
    "    param.requires_grad = True\n",
    "\n",
    "for param in clip_model.visual_projection.parameters():\n",
    "    param.requires_grad = True\n",
    "\n",
    "# print trainable parameters\n",
    "for name, param in clip_model.named_parameters():\n",
    "    if param.requires_grad:\n",
    "        print(\"Will train:\", name)"
   ]
  },
  {
   "cell_type": "code",
   "execution_count": null,
   "id": "585830a9",
   "metadata": {},
   "outputs": [],
   "source": [
    "class TrafficSignDataset(Dataset):\n",
    "    def __init__(self, image_dir, ground_truth, label2id):\n",
    "        self.image_dir = image_dir\n",
    "        self.ground_truth = ground_truth\n",
    "        self.label2id = label2id\n",
    "        self.image_files = list(ground_truth.keys())\n",
    "\n",
    "    def __len__(self):\n",
    "        return len(self.image_files)\n",
    "\n",
    "    def __getitem__(self, idx):\n",
    "        fname = self.image_files[idx]\n",
    "        label_name = self.ground_truth[fname]\n",
    "        label_id = self.label2id[label_name]\n",
    "        image_path = os.path.join(self.image_dir, fname)\n",
    "        image = Image.open(image_path).convert(\"RGB\")\n",
    "        return image, label_id"
   ]
  },
  {
   "cell_type": "code",
   "execution_count": null,
   "id": "351d18d5",
   "metadata": {},
   "outputs": [],
   "source": [
    "with open(\"ground_truth.json\", \"r\") as f:\n",
    "    ground_truth = json.load(f)\n",
    "\n",
    "label_names = sorted(set(ground_truth.values()))\n",
    "label2id = {name: idx for idx, name in enumerate(label_names)}\n",
    "id2label = {idx: name for name, idx in label2id.items()}\n",
    "NUM_CLASSES = len(label2id)\n",
    "\n",
    "def collate_fn(batch):\n",
    "    images, labels = zip(*batch)\n",
    "    return list(images), torch.tensor(labels)\n",
    "\n",
    "image_folder = \"cn\"\n",
    "processor = CLIPProcessor.from_pretrained(\"openai/clip-vit-base-patch32\")\n",
    "\n",
    "dataset = TrafficSignDataset(image_folder, ground_truth, label2id)\n",
    "dataloader = DataLoader(dataset, batch_size=16, shuffle=True, collate_fn=collate_fn)\n",
    "\n",
    "clip_model = CLIPModel.from_pretrained(\"openai/clip-vit-base-patch32\")"
   ]
  },
  {
   "cell_type": "code",
   "execution_count": 10,
   "id": "7d55cae5",
   "metadata": {},
   "outputs": [],
   "source": [
    "class CLIPFineTuner(nn.Module):\n",
    "    def __init__(self, clip_model, num_classes):\n",
    "        super().__init__()\n",
    "        self.clip = clip_model\n",
    "        self.classifier = nn.Linear(clip_model.config.projection_dim, num_classes)\n",
    "\n",
    "    def forward(self, pixel_values):\n",
    "        features = self.clip.get_image_features(pixel_values=pixel_values)\n",
    "        return self.classifier(features)\n",
    "\n",
    "device = torch.device(\"cuda\" if torch.cuda.is_available() else \"cpu\")\n",
    "model = CLIPFineTuner(clip_model, num_classes=NUM_CLASSES).to(device)\n",
    "\n",
    "optimizer = torch.optim.AdamW(filter(lambda p: p.requires_grad, model.parameters()), lr=1e-4)\n",
    "loss_fn = nn.CrossEntropyLoss()\n",
    "\n",
    "epoch = 10"
   ]
  },
  {
   "cell_type": "code",
   "execution_count": 11,
   "id": "8d096d1d",
   "metadata": {},
   "outputs": [],
   "source": [
    "for epoch in range(epoch):\n",
    "    model.train()\n",
    "    for images, labels in dataloader:\n",
    "        inputs = processor(images=images, return_tensors=\"pt\", padding=True).to(device)\n",
    "        logits = model(inputs[\"pixel_values\"])\n",
    "        loss = loss_fn(logits, labels.to(device))\n",
    "\n",
    "        optimizer.zero_grad()\n",
    "        loss.backward()\n",
    "        optimizer.step()\n"
   ]
  },
  {
   "cell_type": "code",
   "execution_count": 12,
   "id": "1dbaa17e",
   "metadata": {},
   "outputs": [],
   "source": [
    "torch.save(model.state_dict(), \"clip_finetuned.pth\")"
   ]
  }
 ],
 "metadata": {
  "kernelspec": {
   "display_name": "Python 3",
   "language": "python",
   "name": "python3"
  },
  "language_info": {
   "codemirror_mode": {
    "name": "ipython",
    "version": 3
   },
   "file_extension": ".py",
   "mimetype": "text/x-python",
   "name": "python",
   "nbconvert_exporter": "python",
   "pygments_lexer": "ipython3",
   "version": "3.9.1"
  }
 },
 "nbformat": 4,
 "nbformat_minor": 5
}
